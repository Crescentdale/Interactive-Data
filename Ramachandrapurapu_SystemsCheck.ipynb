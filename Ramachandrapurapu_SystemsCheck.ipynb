{
 "cells": [
  {
   "cell_type": "code",
   "execution_count": null,
   "id": "856c4f98-02f7-4cae-89f9-a2134e9da0ef",
   "metadata": {},
   "outputs": [],
   "source": []
  },
  {
   "cell_type": "markdown",
   "id": "8ea6a2d2-802a-4376-9a5b-da68f871a530",
   "metadata": {},
   "source": [
    "# My Learning Journey\n",
    "\n",
    "## Introduction\n",
    "As a student in this course, I am excited to learn about data management and Python programming\n",
    "\n",
    "## Goals\n",
    "My goals for this course include:\n",
    "1. Mastering data manipulation techniques\n",
    "2. Becoming proficient in Python programming\n",
    "3. Exploring data visualization\n",
    "\n",
    "**_Here is a cute Python_**\n",
    "\n",
    "![Alt text](Cute_Python.jpeg \"a title\")"
   ]
  },
  {
   "cell_type": "markdown",
   "id": "8fe0b38b-1ec0-4eb3-a7e9-18d993c35958",
   "metadata": {},
   "source": [
    "## Variable assignment"
   ]
  },
  {
   "cell_type": "code",
   "execution_count": null,
   "id": "f15ef8ae-d263-48ab-9383-ba1da6e0b8c0",
   "metadata": {},
   "outputs": [],
   "source": []
  },
  {
   "cell_type": "code",
   "execution_count": 18,
   "id": "96dedbe8-b947-4130-9370-9f76fbf0ec16",
   "metadata": {},
   "outputs": [],
   "source": [
    "Python = \"Snake\""
   ]
  },
  {
   "cell_type": "code",
   "execution_count": 20,
   "id": "3b436768-81d0-4861-95e8-dec974536bed",
   "metadata": {},
   "outputs": [
    {
     "data": {
      "text/plain": [
       "'Snake'"
      ]
     },
     "execution_count": 20,
     "metadata": {},
     "output_type": "execute_result"
    }
   ],
   "source": [
    "Python"
   ]
  },
  {
   "cell_type": "markdown",
   "id": "51dd25be-3562-42c9-8b12-b4718504d16e",
   "metadata": {},
   "source": [
    "## For loop"
   ]
  },
  {
   "cell_type": "code",
   "execution_count": 35,
   "id": "d5fdf3ca-2fcb-4560-b2ff-4565a4a39789",
   "metadata": {},
   "outputs": [
    {
     "name": "stdout",
     "output_type": "stream",
     "text": [
      "0\n",
      "1\n",
      "2\n",
      "3\n",
      "4\n",
      "5\n",
      "6\n",
      "7\n",
      "8\n",
      "9\n"
     ]
    }
   ],
   "source": [
    "for x in range(10):\n",
    "    print(x)"
   ]
  },
  {
   "cell_type": "markdown",
   "id": "8c234d0b-d522-4161-adc1-c3519c0b0ea9",
   "metadata": {},
   "source": [
    "## Function with print and return statements"
   ]
  },
  {
   "cell_type": "code",
   "execution_count": 99,
   "id": "004c4a5f-de7d-431d-8802-5f0fe9786487",
   "metadata": {
    "scrolled": true
   },
   "outputs": [],
   "source": [
    "def saying_hello (name):\n",
    "    greetings = f\"This is {name}\"\n",
    "    print(greetings)\n",
    "    return greetings"
   ]
  },
  {
   "cell_type": "code",
   "execution_count": 101,
   "id": "080b1d85-5a8e-47fe-82f9-a2d105934809",
   "metadata": {},
   "outputs": [
    {
     "name": "stdout",
     "output_type": "stream",
     "text": [
      "This is Pravallika\n"
     ]
    }
   ],
   "source": [
    "grt = saying_hello (\"Pravallika\")"
   ]
  },
  {
   "cell_type": "code",
   "execution_count": 103,
   "id": "e26fd27a-d8df-4c81-96ff-ac4de8e4dbe1",
   "metadata": {},
   "outputs": [
    {
     "data": {
      "text/plain": [
       "'This is Pravallika'"
      ]
     },
     "execution_count": 103,
     "metadata": {},
     "output_type": "execute_result"
    }
   ],
   "source": [
    "grt"
   ]
  },
  {
   "cell_type": "code",
   "execution_count": null,
   "id": "bb29f27f-5556-4c93-869f-ee2ec54c4a6e",
   "metadata": {},
   "outputs": [],
   "source": []
  }
 ],
 "metadata": {
  "kernelspec": {
   "display_name": "Python 3 (ipykernel)",
   "language": "python",
   "name": "python3"
  },
  "language_info": {
   "codemirror_mode": {
    "name": "ipython",
    "version": 3
   },
   "file_extension": ".py",
   "mimetype": "text/x-python",
   "name": "python",
   "nbconvert_exporter": "python",
   "pygments_lexer": "ipython3",
   "version": "3.12.4"
  }
 },
 "nbformat": 4,
 "nbformat_minor": 5
}
