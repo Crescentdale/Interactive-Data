{
 "cells": [
  {
   "cell_type": "code",
   "execution_count": 1,
   "id": "ed49ddc7-6cdf-42f7-b1cd-7796a22198a3",
   "metadata": {},
   "outputs": [],
   "source": [
    "import pandas as pd"
   ]
  },
  {
   "cell_type": "code",
   "execution_count": 2,
   "id": "d9dfc02d-2bf8-4d9d-bb7b-f09e84bb015e",
   "metadata": {},
   "outputs": [
    {
     "data": {
      "text/html": [
       "<div>\n",
       "<style scoped>\n",
       "    .dataframe tbody tr th:only-of-type {\n",
       "        vertical-align: middle;\n",
       "    }\n",
       "\n",
       "    .dataframe tbody tr th {\n",
       "        vertical-align: top;\n",
       "    }\n",
       "\n",
       "    .dataframe thead th {\n",
       "        text-align: right;\n",
       "    }\n",
       "</style>\n",
       "<table border=\"1\" class=\"dataframe\">\n",
       "  <thead>\n",
       "    <tr style=\"text-align: right;\">\n",
       "      <th></th>\n",
       "      <th>Name</th>\n",
       "      <th>Age</th>\n",
       "      <th>Gender</th>\n",
       "    </tr>\n",
       "  </thead>\n",
       "  <tbody>\n",
       "    <tr>\n",
       "      <th>0</th>\n",
       "      <td>Cookie</td>\n",
       "      <td>2 years</td>\n",
       "      <td>Male</td>\n",
       "    </tr>\n",
       "    <tr>\n",
       "      <th>1</th>\n",
       "      <td>Chikky</td>\n",
       "      <td>2 years</td>\n",
       "      <td>Female</td>\n",
       "    </tr>\n",
       "    <tr>\n",
       "      <th>2</th>\n",
       "      <td>Lucky</td>\n",
       "      <td>1 year</td>\n",
       "      <td>Female</td>\n",
       "    </tr>\n",
       "  </tbody>\n",
       "</table>\n",
       "</div>"
      ],
      "text/plain": [
       "     Name      Age  Gender\n",
       "0  Cookie  2 years    Male\n",
       "1  Chikky  2 years  Female\n",
       "2   Lucky   1 year  Female"
      ]
     },
     "execution_count": 2,
     "metadata": {},
     "output_type": "execute_result"
    }
   ],
   "source": [
    "my_dogs = {'Name':['Cookie', 'Chikky', 'Lucky'], 'Age':['2 years', '2 years', '1 year'], 'Gender':['Male', 'Female', 'Female']} \n",
    "pd.DataFrame(my_dogs)"
   ]
  },
  {
   "cell_type": "code",
   "execution_count": 32,
   "id": "1110edd1-1687-46f0-af4b-55ccc5702fe8",
   "metadata": {},
   "outputs": [
    {
     "name": "stdout",
     "output_type": "stream",
     "text": [
      "     Name      Age  Gender\n",
      "0  Cookie  2 years    Male\n",
      "1  Chikky  2 years  Female\n",
      "2   Lucky   1 year  Female\n"
     ]
    }
   ],
   "source": [
    "dogs = pd.DataFrame(my_dogs) \n",
    "dogs.head() \n",
    "print(dogs)"
   ]
  },
  {
   "cell_type": "code",
   "execution_count": 8,
   "id": "ee6aae0a-920b-4606-8f49-f5773fe8c2e1",
   "metadata": {},
   "outputs": [
    {
     "data": {
      "text/plain": [
       "RangeIndex(start=0, stop=3, step=1)"
      ]
     },
     "execution_count": 8,
     "metadata": {},
     "output_type": "execute_result"
    }
   ],
   "source": [
    "dogs.index"
   ]
  },
  {
   "cell_type": "code",
   "execution_count": 9,
   "id": "c702a570-657e-430a-81d5-dab854ea671b",
   "metadata": {},
   "outputs": [
    {
     "data": {
      "text/plain": [
       "Index(['Name', 'Age', 'Gender'], dtype='object')"
      ]
     },
     "execution_count": 9,
     "metadata": {},
     "output_type": "execute_result"
    }
   ],
   "source": [
    "dogs.columns"
   ]
  },
  {
   "cell_type": "code",
   "execution_count": 10,
   "id": "8a0541a5-d5b9-4944-b0d9-5e0f716b04df",
   "metadata": {},
   "outputs": [
    {
     "data": {
      "text/plain": [
       "0    Cookie\n",
       "1    Chikky\n",
       "2     Lucky\n",
       "Name: Name, dtype: object"
      ]
     },
     "execution_count": 10,
     "metadata": {},
     "output_type": "execute_result"
    }
   ],
   "source": [
    "dogs['Name']"
   ]
  },
  {
   "cell_type": "code",
   "execution_count": 12,
   "id": "140aa5d7-6cec-4845-80f1-fe848f9bb163",
   "metadata": {},
   "outputs": [
    {
     "data": {
      "text/plain": [
       "Name       Cookie\n",
       "Age       2 years\n",
       "Gender       Male\n",
       "Name: 0, dtype: object"
      ]
     },
     "execution_count": 12,
     "metadata": {},
     "output_type": "execute_result"
    }
   ],
   "source": [
    "dogs.loc[0]"
   ]
  },
  {
   "cell_type": "code",
   "execution_count": 27,
   "id": "6757bfaa-10e8-434d-a2db-75b24b59ee82",
   "metadata": {},
   "outputs": [
    {
     "name": "stdout",
     "output_type": "stream",
     "text": [
      "     Name      Age  Gender\n",
      "0  Cookie  2 years    Male\n",
      "1  Chikky  2 years  Female\n",
      "2   Lucky   1 year  Female\n"
     ]
    }
   ],
   "source": [
    "dogs2 = pd.DataFrame() \n",
    "\n",
    "Name = [\"Cookie\", \"Chikky\", \"Lucky\"]\n",
    "Age = [\"2 years\", \"2 years\", \"1 year\"] \n",
    "Gender = [\"Male\", \"Female\", \"Female\"] \n",
    "\n",
    "dogs2[\"Name\"] = Name\n",
    "dogs2[\"Age\"] = Age  \n",
    "dogs2[\"Gender\"] = Gender   \n",
    "\n",
    "print(dogs2)"
   ]
  },
  {
   "cell_type": "code",
   "execution_count": 31,
   "id": "2825d23b-ca61-4db9-8789-c0cbf487650e",
   "metadata": {},
   "outputs": [
    {
     "name": "stdout",
     "output_type": "stream",
     "text": [
      "0    Cookie\n",
      "1    Chikky\n",
      "2     Lucky\n",
      "Name: Name, dtype: object\n"
     ]
    }
   ],
   "source": [
    "print(dogs)"
   ]
  },
  {
   "cell_type": "code",
   "execution_count": 33,
   "id": "650dddc5-8d87-4556-8b0f-d3040ab05914",
   "metadata": {},
   "outputs": [
    {
     "name": "stdout",
     "output_type": "stream",
     "text": [
      "     Name      Age  Gender\n",
      "0  Cookie  2 years    Male\n",
      "1  Chikky  2 years  Female\n",
      "2   Lucky   1 year  Female\n"
     ]
    }
   ],
   "source": [
    "print(dogs)"
   ]
  },
  {
   "cell_type": "code",
   "execution_count": 34,
   "id": "0667c4f5-1b76-4021-8a6c-9b2d44627a79",
   "metadata": {},
   "outputs": [],
   "source": [
    "df = dogs \n",
    "df.to_csv(\"dogs1.csv\")"
   ]
  },
  {
   "cell_type": "code",
   "execution_count": 35,
   "id": "be6502e4-5239-4782-b816-0f5575e13a3d",
   "metadata": {},
   "outputs": [
    {
     "name": "stdout",
     "output_type": "stream",
     "text": [
      "     Name      Age  Gender\n",
      "0  Cookie  2 years    Male\n",
      "1  Chikky  2 years  Female\n",
      "2   Lucky   1 year  Female\n"
     ]
    }
   ],
   "source": [
    "print(dogs2)"
   ]
  },
  {
   "cell_type": "code",
   "execution_count": 36,
   "id": "91de6bba-6724-4026-a7ab-8f55ddff89b1",
   "metadata": {},
   "outputs": [],
   "source": [
    "df2 = dogs2 \n",
    "df2.to_csv(\"dogs2.csv\")"
   ]
  },
  {
   "cell_type": "markdown",
   "id": "b29d713b-05b9-49a8-bd83-c842d16052bf",
   "metadata": {},
   "source": [
    "## Question and Answers\n",
    "\n",
    "**What does the \"write/render/evaluate\" loop provide for creators of interactive data visualizations?** \n",
    "\n",
    "The write/render/evaluate loop provides speed, efficiency, and an opportunity for iteration. This allows creators of interactive data visualizations to set rules, tweak them, render and re-render output immediately, and try alternate mappings on millions of values and large datasets in a moment. \n",
    "\n",
    "**Why are dynamic, interactive data visualizations useful when communicating data?**  \n",
    "\n",
    "It helps engage different sets of audiences, giving them the opportunity to explore the data, zoom, and filter as needed. It is better than static images as it can present multidimensional datasets in an engaging way. This approach can also help audiences who might not otherwise care to look at the data to engage and explore it for themselves. \n",
    "\n",
    "**Do you agree with Murray's claim that open-source tools that avoid proprietary software are best for publishing data visualization? In a few sentences, explain why you do or do not agree** \n",
    "\n",
    "Yes, I agree with Murray’s claim because proprietary software can be restrictive and costly, whereas open-source tools are widely accessible and cost-efficient."
   ]
  },
  {
   "cell_type": "code",
   "execution_count": null,
   "id": "daeb8788-743f-4fc9-a210-8b0d36e6e31b",
   "metadata": {},
   "outputs": [],
   "source": []
  }
 ],
 "metadata": {
  "kernelspec": {
   "display_name": "Python 3 (ipykernel)",
   "language": "python",
   "name": "python3"
  },
  "language_info": {
   "codemirror_mode": {
    "name": "ipython",
    "version": 3
   },
   "file_extension": ".py",
   "mimetype": "text/x-python",
   "name": "python",
   "nbconvert_exporter": "python",
   "pygments_lexer": "ipython3",
   "version": "3.12.4"
  }
 },
 "nbformat": 4,
 "nbformat_minor": 5
}
